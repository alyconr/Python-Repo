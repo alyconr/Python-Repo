{
  "nbformat": 4,
  "nbformat_minor": 0,
  "metadata": {
    "colab": {
      "private_outputs": true,
      "provenance": [],
      "include_colab_link": true
    },
    "kernelspec": {
      "name": "python3",
      "display_name": "Python 3"
    },
    "language_info": {
      "name": "python"
    }
  },
  "cells": [
    {
      "cell_type": "markdown",
      "metadata": {
        "id": "view-in-github",
        "colab_type": "text"
      },
      "source": [
        "<a href=\"https://colab.research.google.com/github/alyconr/Python-Repo/blob/main/Copia_de_N2_Programaci%C3%B3n_Funcional.ipynb\" target=\"_parent\"><img src=\"https://colab.research.google.com/assets/colab-badge.svg\" alt=\"Open In Colab\"/></a>"
      ]
    },
    {
      "cell_type": "markdown",
      "source": [
        "# Programación Funcional en Python\n"
      ],
      "metadata": {
        "id": "Rav-C_4Dlwf1"
      }
    },
    {
      "cell_type": "markdown",
      "source": [
        "## Introducción\n",
        "\n",
        "Python es un lenguaje de programación **Multiparadigma**.  \n",
        "\n",
        "La Programación Funcional (PF) es un paradigma de programación donde las protagonistas son las funciones.  Las funciones se pueden almacenar en variables, pasar como parámetros a otras funciones, ser retornadas por otras funciones.  "
      ],
      "metadata": {
        "id": "xnEdmDpdl02Q"
      }
    },
    {
      "cell_type": "markdown",
      "source": [
        "**Ventajas de la PF**\n",
        "\n",
        "\n",
        "*   Mayor claridad del código\n",
        "*   Facilita el mantenimiento\n",
        "*   Brevedad del código\n",
        "*   Seguridad del código\n",
        "*   Velocidad de ejecución\n",
        "\n"
      ],
      "metadata": {
        "id": "ZRMoLTsTqh5C"
      }
    },
    {
      "cell_type": "markdown",
      "source": [
        "## Primeros pasos hacia la Programación Funcional\n",
        "\n",
        "En la PF las funciones son consideradas  \"Ciudadanas de primera clase\".\n",
        "\n",
        "A continuación veremos algunas bases que nos ayudarán a introducirnos y comprender mejor la PF."
      ],
      "metadata": {
        "id": "eCEzh_3xxq2h"
      }
    },
    {
      "cell_type": "markdown",
      "source": [
        "### Composición de Funciones\n",
        "\n",
        "La composición de funciones en Python es una técnica que consiste en aplicar una función a los resultados de otra función.\n",
        "\n",
        "De esta manera podemos obtener resultados más exigentes a partir de la concatenación de funciones simples y reutilizar el código de forma eficiente."
      ],
      "metadata": {
        "id": "2g6Aq3no_jRp"
      }
    },
    {
      "cell_type": "markdown",
      "source": [
        "Ejemplo:  Se requiere reemplazar parte de un texto y convertirlo a mayúscula."
      ],
      "metadata": {
        "id": "juagnytgCst_"
      }
    },
    {
      "cell_type": "code",
      "source": [
        "def a_mayuscula(texto):\n",
        "    return texto.upper()\n",
        "\n",
        "def reemplazar(texto, antiguo, nuevo):\n",
        "    return texto.replace(antiguo, nuevo)\n",
        "\n",
        "texto = \"este es un ejemplo de funciones anidadas en Python\"\n",
        "resultado = a_mayuscula(reemplazar(texto, \"funciones anidadas\", \"composición de funciones\"))\n",
        "print(resultado)"
      ],
      "metadata": {
        "id": "pBgrcL5TCv2v"
      },
      "execution_count": null,
      "outputs": []
    },
    {
      "cell_type": "markdown",
      "source": [
        "La siguiente función recibe un mensaje y lo devuelve encriptado reemplazando cada letra del mensaje N posiciones en el alfabeto:\n",
        "\n",
        "\n",
        "\n",
        "```\n",
        "def encriptar(mensaje, posiciones):\n",
        "    alfabeto = 'abcdefghijklmnñopqrstuvwxyz'\n",
        "    resultado = ''\n",
        "    for letra in mensaje:\n",
        "        if letra in alfabeto:\n",
        "            indice = alfabeto.index(letra)\n",
        "            nuevo_indice = (indice + posiciones) % 27\n",
        "            resultado += alfabeto[nuevo_indice]\n",
        "        else:\n",
        "            resultado += letra\n",
        "    return resultado\n",
        "```\n",
        "\n",
        "\n"
      ],
      "metadata": {
        "id": "uJ7SkgtYOL3g"
      }
    },
    {
      "cell_type": "code",
      "source": [
        "def encriptar(mensaje, posiciones):\n",
        "    alfabeto = 'abcdefghijklmnñopqrstuvwxyz'\n",
        "    resultado = ''\n",
        "    for letra in mensaje:\n",
        "        if letra in alfabeto:\n",
        "            indice = alfabeto.index(letra)\n",
        "            nuevo_indice = (indice + posiciones) % 27\n",
        "            resultado += alfabeto[nuevo_indice]\n",
        "        else:\n",
        "            resultado += letra\n",
        "    return resultado\n",
        "\n",
        "print (encriptar(\"sena\", 1))"
      ],
      "metadata": {
        "id": "TBt4NjbcXUnn"
      },
      "execution_count": null,
      "outputs": []
    },
    {
      "cell_type": "markdown",
      "source": [
        "*   Cree una segunda función que reciba un mensaje y lo convierta a mayúscula\n",
        "*   Cree una tercera función que reciba un mensaje y lo retorne invertido.\n",
        "\n",
        "\n",
        "Mediante composición de funciones reciba un mensaje, encríptelo, convierta el mensaje encriptado a mayúsculas e invierta el mensaje encriptado en mayúsculas para generar un mensaje encriptado con mayor seguridad.  "
      ],
      "metadata": {
        "id": "M9qtC107PzHO"
      }
    },
    {
      "cell_type": "code",
      "source": [
        "def encriptar(mensaje, posiciones):\n",
        "    alfabeto = 'abcdefghijklmnñopqrstuvwxyz'\n",
        "    resultado = ''\n",
        "    for letra in mensaje:\n",
        "        if letra in alfabeto:\n",
        "            indice = alfabeto.index(letra)\n",
        "            nuevo_indice = (indice + posiciones) % 27\n",
        "            resultado += alfabeto[nuevo_indice]\n",
        "        else:\n",
        "            resultado += letra\n",
        "    return resultado\n",
        "\n",
        "def a_mayuscula(texto):\n",
        "    return texto.upper()\n",
        "\n",
        "def invertir(texto):\n",
        "  return texto[::-1]\n",
        "\n",
        "mens = input (\"Ingrese mensaje:\")\n",
        "resultado = invertir(a_mayuscula(encriptar(mens,2)))\n",
        "print (resultado)\n",
        "\n"
      ],
      "metadata": {
        "id": "XRRDTDn7Odeh"
      },
      "execution_count": null,
      "outputs": []
    },
    {
      "cell_type": "markdown",
      "source": [
        "### Funciones Anidadas\n",
        "\n",
        "Una función anidada es la definición de una función al interior de otra.  En este contexto, la función interna se convierte en un \"ayudante\" para la función externa.  \n",
        "\n",
        "La función interna solo puede invocarse desde la función externa y no por fuera de ella."
      ],
      "metadata": {
        "id": "e3zO-B2rCqx3"
      }
    },
    {
      "cell_type": "code",
      "source": [
        "def funcion_principal():\n",
        "    print(\"Esta es la función principal.\")\n",
        "\n",
        "    def funcion_anidada():\n",
        "        print(\"Esta es la función anidada.\")\n",
        "\n",
        "    funcion_anidada() # Llamando a la función anidada dentro de la principal\n",
        "\n",
        "\n",
        "funcion_principal() # Llamando a la función principal\n",
        "funcion_anidada()  # Genera error"
      ],
      "metadata": {
        "id": "OHh0rX5by2Ou"
      },
      "execution_count": null,
      "outputs": []
    },
    {
      "cell_type": "markdown",
      "source": [
        "En el siguiente código, la función dividir tiene en su interior otra función llamada validar() que le ayuda en su tarea"
      ],
      "metadata": {
        "id": "Ae6GcOPezSKM"
      }
    },
    {
      "cell_type": "code",
      "source": [
        "def dividir(n1, n2):\n",
        "\n",
        "  def validar():\n",
        "    return n2 != 0\n",
        "\n",
        "  if validar():\n",
        "    return n1/n2\n",
        "\n",
        "print (dividir(3,2))\n"
      ],
      "metadata": {
        "id": "V_e2uyCxk8QF"
      },
      "execution_count": null,
      "outputs": []
    },
    {
      "cell_type": "markdown",
      "source": [
        "Las funciones internas tienen acceso a los parámetros recibidos por la función externa al igual que a las variables locales definidas en ella."
      ],
      "metadata": {
        "id": "nskLhFbR0UoU"
      }
    },
    {
      "cell_type": "markdown",
      "source": [
        "En el siguiente ejemplo se crea una función externa **login()** que solicita el nombre de usuario y contraseña y llama a la función interna **validar_usuario()** para que determine si los datos de acceso son correctos de acuerdo con la información de usuarios que se tiene."
      ],
      "metadata": {
        "id": "ir2HMoNO8XZU"
      }
    },
    {
      "cell_type": "code",
      "source": [
        "def login():\n",
        "    def validar_usuario():\n",
        "        # Esta función valida si el usuario existe y si su contraseña es correcta\n",
        "        usuarios = {\"user1\": \"pass1\", \"user2\": \"pass2\", \"user3\": \"pass3\"}\n",
        "        if username in usuarios and usuarios[username] == password:\n",
        "            return True\n",
        "        else:\n",
        "            return False\n",
        "\n",
        "    # Pedir al usuario su nombre de usuario y contraseña\n",
        "    username = input(\"Ingrese su nombre de usuario: \")\n",
        "    password = input(\"Ingrese su contraseña: \")\n",
        "\n",
        "    # Llamar a la función validar_usuario para validar los datos ingresados\n",
        "    if validar_usuario():\n",
        "        print(\"Inicio de sesión exitoso!\")\n",
        "    else:\n",
        "        print(\"Nombre de usuario o contraseña incorrectos.\")\n",
        "\n",
        "login()\n"
      ],
      "metadata": {
        "id": "mOSkfYTN8d21"
      },
      "execution_count": null,
      "outputs": []
    },
    {
      "cell_type": "markdown",
      "source": [
        "En el código anterior, **¿cuáles son las ventajas de usar funciones anidadas?**"
      ],
      "metadata": {
        "id": "W3AwVnkL94bN"
      }
    },
    {
      "cell_type": "markdown",
      "source": [
        "### Asignación de funciones a variables\n",
        "\n",
        "En Python podemos asignar una función a una variable.  Después de esto, la variable se comportará como la función asignada.  Miremos:  "
      ],
      "metadata": {
        "id": "YWjTTxGGCnd8"
      }
    },
    {
      "cell_type": "code",
      "source": [
        "def sumar(n1, n2):\n",
        "  return n1+n2\n",
        "\n",
        "x = sumar\n",
        "print (type(x))\n",
        "print (x(3,2))\n",
        "print (sumar(3,9))\n",
        "print(x)\n",
        "print (sumar)"
      ],
      "metadata": {
        "id": "qRPDMjMaCvom"
      },
      "execution_count": null,
      "outputs": []
    },
    {
      "cell_type": "markdown",
      "source": [
        "### Funciones que retornan otras funciones\n",
        "\n",
        "En python podemos tener funciones que retornen otras funciones para luego ser utilizadas por el programa.  Miremos:"
      ],
      "metadata": {
        "id": "Ar-G3J0CIItF"
      }
    },
    {
      "cell_type": "code",
      "source": [
        "def funcion_a():\n",
        "    def funcion_b():\n",
        "        return \"¡Hola desde la función B!\"\n",
        "    return funcion_b\n",
        "\n",
        "x = funcion_a()\n",
        "print (x)\n",
        "print(type(x))\n",
        "print (x())"
      ],
      "metadata": {
        "id": "gExD0QbIIchb"
      },
      "execution_count": null,
      "outputs": []
    },
    {
      "cell_type": "markdown",
      "source": [
        "### Funciones Closures\n",
        "\n",
        "Una función closure es una función interna que es retornada por su función externa y que es capaz de capturar el ambiente externo, es decir, puede dar acceso a las variables o parámetros de la función externa.  "
      ],
      "metadata": {
        "id": "p1kJN06H_rzK"
      }
    },
    {
      "cell_type": "markdown",
      "source": [
        "En el siguiente ejemplo tenemos una función externa llamada **potencia** que recibe un número que indica la potencia a la que se quiere elevar una base.  Esta función externa retorna a la función interna **eleva** que  recibe la base y devuelve esa base elevada a la potencia recibida por la función externa.\n"
      ],
      "metadata": {
        "id": "wdr1dsEHLnIT"
      }
    },
    {
      "cell_type": "code",
      "source": [
        "def potencia(n):\n",
        "    def eleva(x):\n",
        "        return x ** n\n",
        "    return eleva\n",
        "\n",
        "cuadrado = potencia(2) #se crea la función cuadrado que envía 2 como parámetro\n",
        "                       #a la función externa potencia y queda con el comportamiento\n",
        "                       #de la función interna eleva\n",
        "cubo = potencia (3)\n",
        "print (cuadrado(5))\n",
        "print (cubo(2))\n",
        "\n",
        "pot = potencia(int(input(\"Ingrese la potencia deseada:\")))\n",
        "print(pot(int(input(\"Ingrese la base que quiere elevar\"))))"
      ],
      "metadata": {
        "id": "2cYEagHGMxMS"
      },
      "execution_count": null,
      "outputs": []
    },
    {
      "cell_type": "markdown",
      "source": [
        "Las funciones closures no solo pueden capturar y reconocer los parámetros de la función externa, sino también sus variables locales.  De este modo, se pueden usar estas variables de la función externa para construir los resultados esperados en la función interna.  "
      ],
      "metadata": {
        "id": "tCuqQrrFVJLZ"
      }
    },
    {
      "cell_type": "markdown",
      "source": [
        "Queremos una función llamada **alcancia(moneda)** que cada vez que reciba una moneda muestre en pantalla el total de dinero acumulado en la alcancía.  \n",
        "\n",
        "Intentemos inicialmente hacerlo sin closure functions..."
      ],
      "metadata": {
        "id": "E-NDLt5CVlsa"
      }
    },
    {
      "cell_type": "code",
      "source": [
        "total=0\n",
        "def alcancia (moneda):\n",
        "  global total\n",
        "  total = total + moneda\n",
        "  print (total)\n",
        "\n",
        "alcancia(200)\n",
        "alcancia (500)\n",
        "alcancia (500)\n",
        "alcancia (100)"
      ],
      "metadata": {
        "id": "4X960jnrCT0R"
      },
      "execution_count": null,
      "outputs": []
    },
    {
      "cell_type": "markdown",
      "source": [
        "El programa aquí funciona.  Pero.. **¿Puedes identificar el inconveniente de esta solución?**"
      ],
      "metadata": {
        "id": "DEMiEu7KXbGC"
      }
    },
    {
      "cell_type": "markdown",
      "source": [
        "\n",
        "\n",
        "---\n",
        "\n"
      ],
      "metadata": {
        "id": "pXAuqElcduBB"
      }
    },
    {
      "cell_type": "markdown",
      "source": [
        "Ahora miremos la solución con funciones closures.  "
      ],
      "metadata": {
        "id": "yLGXhZXmdvJI"
      }
    },
    {
      "cell_type": "code",
      "source": [
        "def alc():\n",
        "  total=0\n",
        "  def alcancia(moneda):\n",
        "    nonlocal total\n",
        "    total = total + moneda\n",
        "    print (total)\n",
        "  return alcancia\n",
        "#############################\n",
        "alcancia = alc()\n",
        "\n",
        "alcancia(200)\n",
        "alcancia (500)\n",
        "alcancia (500)\n",
        "alcancia (100)"
      ],
      "metadata": {
        "id": "Lv9ihFL_Vkeb"
      },
      "execution_count": null,
      "outputs": []
    },
    {
      "cell_type": "markdown",
      "source": [
        "Bajo esta solución, no tendremos ningún inconveniente con las dependencias de las funciones a variables globales, pues estas quedan encapsuladas dentro de la función externa a la que la función closure accede.  "
      ],
      "metadata": {
        "id": "r9sc8y94eA8p"
      }
    },
    {
      "cell_type": "markdown",
      "source": [
        "### Funciones como parámetros de otras funciones\n",
        "\n",
        "En python una función puede recibir a otras funciones como parámetros.  Miremos:"
      ],
      "metadata": {
        "id": "Yi9PxYughDLo"
      }
    },
    {
      "cell_type": "code",
      "source": [
        "def es_par(numero):\n",
        "    return numero % 2 == 0\n",
        "\n",
        "def incremente_en_5(numero):\n",
        "    return numero+5\n",
        "\n",
        "def ejecutar_funcion(funcion, argumento): #esta funcion recibe otra funcion como parámetro\n",
        "    res = funcion(argumento) #ejecuta la función recibida\n",
        "    return res\n",
        "\n",
        "print (ejecutar_funcion(es_par, 5))\n",
        "print (ejecutar_funcion(es_par, 18))\n",
        "print (ejecutar_funcion(incremente_en_5, 18))"
      ],
      "metadata": {
        "id": "WITHUFVsh32Y"
      },
      "execution_count": null,
      "outputs": []
    },
    {
      "cell_type": "markdown",
      "source": [
        "Cree una función llamada **transformar_lista(lista, funcion)** esta función recibe una lista de números ingresados por el usuario y una de estas funciones (siguiente, anterior, duplicar)\n",
        "\n",
        "La función siguiente debe transformar cada número de la lista por su número siguiente:  si recibe [3,7,0] devolverá [4,8,1]\n",
        "\n",
        "La función anterior debe transformar cada número de la lista por su número anterior:  si recibe [3,7,0] devolverá [2,6,-1]\n",
        "\n",
        "La función duplicar debe duplicar cada número de la lista:  si recibe [3,7,0] devolverá [6,14,0]\n",
        "\n",
        "Compruebe que la función transformar_lista funciona correctamente enviando cualquiera de las 3 funciones como parámetro"
      ],
      "metadata": {
        "id": "BStpoDFBjPbB"
      }
    },
    {
      "cell_type": "code",
      "source": [
        "def siguiente(num):\n",
        "  return num+1\n",
        "\n",
        "def anterior(numero):\n",
        "  return numero-1\n",
        "\n",
        "def duplicar(numero):\n",
        "  return numero*2\n",
        "\n",
        "def transformar_lista(lista, funcion):\n",
        "  lista_local = []\n",
        "  for num in lista:\n",
        "    lista_local.append(funcion(int(num)))\n",
        "  return lista_local\n",
        "\n",
        "lista = input(\"Ingrese numeros separados por comas:\").split(\",\")\n",
        "print(transformar_lista(lista,siguiente))\n",
        "print(transformar_lista(lista,anterior))\n",
        "print(transformar_lista(lista,duplicar))"
      ],
      "metadata": {
        "id": "y6vhnhHFjkEt"
      },
      "execution_count": null,
      "outputs": []
    },
    {
      "cell_type": "markdown",
      "source": [
        "# Apropiación"
      ],
      "metadata": {
        "id": "cCN37L-o_eAe"
      }
    },
    {
      "cell_type": "markdown",
      "source": [
        "Realice una función llamada **validar_contrasena(contraseña, func1, func2)** que recibe una contraseña como parámetro y dos funciones\n",
        "**longitud_valida(cadena)** y **caracteres_especiales(cadena)**.  Esta función debe retornar True si la contraseña recibida es correcta con base en las reglase de validación de las dos funciones que recibe como parámetro, y False en caso de que alguna regla de validación no se cumpla.\n",
        "\n",
        "La función **longitud_valida(cadena)** recibe un texto como parámetro y devuelve True si el texto tiene al menos 8 caracteres, y False en caso contrario.\n",
        "\n",
        "La función **caracteres_especiales(cadena)** recibe una cadena como parámetro y devuelve True si la cadena contiene al menos un carácter especial y False en caso contrario.\n",
        "\n",
        "Comprobar el funcionamiento del programa.\n"
      ],
      "metadata": {
        "id": "QCJrhbT4Cxzc"
      }
    },
    {
      "cell_type": "code",
      "source": [],
      "metadata": {
        "id": "9KYWkI5tJgAB"
      },
      "execution_count": null,
      "outputs": []
    }
  ]
}